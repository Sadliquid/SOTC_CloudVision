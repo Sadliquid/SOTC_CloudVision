{
 "cells": [
  {
   "cell_type": "markdown",
   "id": "ec5c473b",
   "metadata": {},
   "source": [
    "# Sigils of The Codex\n",
    "\n",
    "By the end of this Code Along session, you will learn to run inferences through **Google's Cloud Vision API**, retrieve the returned labels, and sort them by recyclabile categories. You will implement a **scoring system** to determine the prediction with the highest confidence rate for each image, and build a simple tool to **identify recyclable items** within images."
   ]
  },
  {
   "cell_type": "markdown",
   "id": "c57aa63f",
   "metadata": {},
   "source": [
    "## Install Dependancies\n",
    "We'll first need to install some dependancies. Here is a breakdown of the necessary modules:\n",
    "- `google-cloud-vision`: The official Google Cloud Vision API client library for Python.\n",
    "\n",
    "- `pillow`: A Python Imaging Library with Image Processing capabilities."
   ]
  },
  {
   "cell_type": "code",
   "execution_count": 1,
   "id": "3831220e",
   "metadata": {},
   "outputs": [
    {
     "name": "stdout",
     "output_type": "stream",
     "text": [
      "Collecting google-cloud-vision\n",
      "  Downloading google_cloud_vision-3.10.2-py3-none-any.whl.metadata (9.6 kB)\n",
      "Requirement already satisfied: pillow in /opt/anaconda3/lib/python3.12/site-packages (10.4.0)\n",
      "Collecting google-api-core!=2.0.*,!=2.1.*,!=2.10.*,!=2.2.*,!=2.3.*,!=2.4.*,!=2.5.*,!=2.6.*,!=2.7.*,!=2.8.*,!=2.9.*,<3.0.0,>=1.34.1 (from google-api-core[grpc]!=2.0.*,!=2.1.*,!=2.10.*,!=2.2.*,!=2.3.*,!=2.4.*,!=2.5.*,!=2.6.*,!=2.7.*,!=2.8.*,!=2.9.*,<3.0.0,>=1.34.1->google-cloud-vision)\n",
      "  Using cached google_api_core-2.25.1-py3-none-any.whl.metadata (3.0 kB)\n",
      "Collecting google-auth!=2.24.0,!=2.25.0,<3.0.0,>=2.14.1 (from google-cloud-vision)\n",
      "  Using cached google_auth-2.40.3-py2.py3-none-any.whl.metadata (6.2 kB)\n",
      "Collecting proto-plus<2.0.0,>=1.22.3 (from google-cloud-vision)\n",
      "  Using cached proto_plus-1.26.1-py3-none-any.whl.metadata (2.2 kB)\n",
      "Requirement already satisfied: protobuf!=4.21.0,!=4.21.1,!=4.21.2,!=4.21.3,!=4.21.4,!=4.21.5,<7.0.0,>=3.20.2 in /opt/anaconda3/lib/python3.12/site-packages (from google-cloud-vision) (4.25.3)\n",
      "Collecting googleapis-common-protos<2.0.0,>=1.56.2 (from google-api-core!=2.0.*,!=2.1.*,!=2.10.*,!=2.2.*,!=2.3.*,!=2.4.*,!=2.5.*,!=2.6.*,!=2.7.*,!=2.8.*,!=2.9.*,<3.0.0,>=1.34.1->google-api-core[grpc]!=2.0.*,!=2.1.*,!=2.10.*,!=2.2.*,!=2.3.*,!=2.4.*,!=2.5.*,!=2.6.*,!=2.7.*,!=2.8.*,!=2.9.*,<3.0.0,>=1.34.1->google-cloud-vision)\n",
      "  Using cached googleapis_common_protos-1.70.0-py3-none-any.whl.metadata (9.3 kB)\n",
      "Requirement already satisfied: requests<3.0.0,>=2.18.0 in /opt/anaconda3/lib/python3.12/site-packages (from google-api-core!=2.0.*,!=2.1.*,!=2.10.*,!=2.2.*,!=2.3.*,!=2.4.*,!=2.5.*,!=2.6.*,!=2.7.*,!=2.8.*,!=2.9.*,<3.0.0,>=1.34.1->google-api-core[grpc]!=2.0.*,!=2.1.*,!=2.10.*,!=2.2.*,!=2.3.*,!=2.4.*,!=2.5.*,!=2.6.*,!=2.7.*,!=2.8.*,!=2.9.*,<3.0.0,>=1.34.1->google-cloud-vision) (2.32.3)\n",
      "Collecting grpcio<2.0.0,>=1.33.2 (from google-api-core[grpc]!=2.0.*,!=2.1.*,!=2.10.*,!=2.2.*,!=2.3.*,!=2.4.*,!=2.5.*,!=2.6.*,!=2.7.*,!=2.8.*,!=2.9.*,<3.0.0,>=1.34.1->google-cloud-vision)\n",
      "  Downloading grpcio-1.74.0-cp312-cp312-macosx_11_0_universal2.whl.metadata (3.8 kB)\n",
      "Collecting grpcio-status<2.0.0,>=1.33.2 (from google-api-core[grpc]!=2.0.*,!=2.1.*,!=2.10.*,!=2.2.*,!=2.3.*,!=2.4.*,!=2.5.*,!=2.6.*,!=2.7.*,!=2.8.*,!=2.9.*,<3.0.0,>=1.34.1->google-cloud-vision)\n",
      "  Downloading grpcio_status-1.74.0-py3-none-any.whl.metadata (1.1 kB)\n",
      "Requirement already satisfied: cachetools<6.0,>=2.0.0 in /opt/anaconda3/lib/python3.12/site-packages (from google-auth!=2.24.0,!=2.25.0,<3.0.0,>=2.14.1->google-cloud-vision) (5.3.3)\n",
      "Requirement already satisfied: pyasn1-modules>=0.2.1 in /opt/anaconda3/lib/python3.12/site-packages (from google-auth!=2.24.0,!=2.25.0,<3.0.0,>=2.14.1->google-cloud-vision) (0.2.8)\n",
      "Collecting rsa<5,>=3.1.4 (from google-auth!=2.24.0,!=2.25.0,<3.0.0,>=2.14.1->google-cloud-vision)\n",
      "  Using cached rsa-4.9.1-py3-none-any.whl.metadata (5.6 kB)\n",
      "Collecting protobuf!=4.21.0,!=4.21.1,!=4.21.2,!=4.21.3,!=4.21.4,!=4.21.5,<7.0.0,>=3.20.2 (from google-cloud-vision)\n",
      "  Downloading protobuf-6.32.0-cp39-abi3-macosx_10_9_universal2.whl.metadata (593 bytes)\n",
      "Requirement already satisfied: pyasn1<0.5.0,>=0.4.6 in /opt/anaconda3/lib/python3.12/site-packages (from pyasn1-modules>=0.2.1->google-auth!=2.24.0,!=2.25.0,<3.0.0,>=2.14.1->google-cloud-vision) (0.4.8)\n",
      "Requirement already satisfied: charset-normalizer<4,>=2 in /opt/anaconda3/lib/python3.12/site-packages (from requests<3.0.0,>=2.18.0->google-api-core!=2.0.*,!=2.1.*,!=2.10.*,!=2.2.*,!=2.3.*,!=2.4.*,!=2.5.*,!=2.6.*,!=2.7.*,!=2.8.*,!=2.9.*,<3.0.0,>=1.34.1->google-api-core[grpc]!=2.0.*,!=2.1.*,!=2.10.*,!=2.2.*,!=2.3.*,!=2.4.*,!=2.5.*,!=2.6.*,!=2.7.*,!=2.8.*,!=2.9.*,<3.0.0,>=1.34.1->google-cloud-vision) (3.3.2)\n",
      "Requirement already satisfied: idna<4,>=2.5 in /opt/anaconda3/lib/python3.12/site-packages (from requests<3.0.0,>=2.18.0->google-api-core!=2.0.*,!=2.1.*,!=2.10.*,!=2.2.*,!=2.3.*,!=2.4.*,!=2.5.*,!=2.6.*,!=2.7.*,!=2.8.*,!=2.9.*,<3.0.0,>=1.34.1->google-api-core[grpc]!=2.0.*,!=2.1.*,!=2.10.*,!=2.2.*,!=2.3.*,!=2.4.*,!=2.5.*,!=2.6.*,!=2.7.*,!=2.8.*,!=2.9.*,<3.0.0,>=1.34.1->google-cloud-vision) (3.7)\n",
      "Requirement already satisfied: urllib3<3,>=1.21.1 in /opt/anaconda3/lib/python3.12/site-packages (from requests<3.0.0,>=2.18.0->google-api-core!=2.0.*,!=2.1.*,!=2.10.*,!=2.2.*,!=2.3.*,!=2.4.*,!=2.5.*,!=2.6.*,!=2.7.*,!=2.8.*,!=2.9.*,<3.0.0,>=1.34.1->google-api-core[grpc]!=2.0.*,!=2.1.*,!=2.10.*,!=2.2.*,!=2.3.*,!=2.4.*,!=2.5.*,!=2.6.*,!=2.7.*,!=2.8.*,!=2.9.*,<3.0.0,>=1.34.1->google-cloud-vision) (2.2.3)\n",
      "Requirement already satisfied: certifi>=2017.4.17 in /opt/anaconda3/lib/python3.12/site-packages (from requests<3.0.0,>=2.18.0->google-api-core!=2.0.*,!=2.1.*,!=2.10.*,!=2.2.*,!=2.3.*,!=2.4.*,!=2.5.*,!=2.6.*,!=2.7.*,!=2.8.*,!=2.9.*,<3.0.0,>=1.34.1->google-api-core[grpc]!=2.0.*,!=2.1.*,!=2.10.*,!=2.2.*,!=2.3.*,!=2.4.*,!=2.5.*,!=2.6.*,!=2.7.*,!=2.8.*,!=2.9.*,<3.0.0,>=1.34.1->google-cloud-vision) (2024.8.30)\n",
      "Downloading google_cloud_vision-3.10.2-py3-none-any.whl (527 kB)\n",
      "\u001b[2K   \u001b[90m━━━━━━━━━━━━━━━━━━━━━━━━━━━━━━━━━━━━━━━━\u001b[0m \u001b[32m527.9/527.9 kB\u001b[0m \u001b[31m3.6 MB/s\u001b[0m eta \u001b[36m0:00:00\u001b[0m-:--:--\u001b[0m\n",
      "\u001b[?25hUsing cached google_api_core-2.25.1-py3-none-any.whl (160 kB)\n",
      "Using cached google_auth-2.40.3-py2.py3-none-any.whl (216 kB)\n",
      "Using cached proto_plus-1.26.1-py3-none-any.whl (50 kB)\n",
      "Using cached googleapis_common_protos-1.70.0-py3-none-any.whl (294 kB)\n",
      "Downloading grpcio-1.74.0-cp312-cp312-macosx_11_0_universal2.whl (11.0 MB)\n",
      "\u001b[2K   \u001b[90m━━━━━━━━━━━━━━━━━━━━━━━━━━━━━━━━━━━━━━━━\u001b[0m \u001b[32m11.0/11.0 MB\u001b[0m \u001b[31m7.8 MB/s\u001b[0m eta \u001b[36m0:00:00\u001b[0ma \u001b[36m0:00:01\u001b[0m\n",
      "\u001b[?25hDownloading grpcio_status-1.74.0-py3-none-any.whl (14 kB)\n",
      "Downloading protobuf-6.32.0-cp39-abi3-macosx_10_9_universal2.whl (426 kB)\n",
      "Using cached rsa-4.9.1-py3-none-any.whl (34 kB)\n",
      "Installing collected packages: rsa, protobuf, grpcio, proto-plus, googleapis-common-protos, google-auth, grpcio-status, google-api-core, google-cloud-vision\n",
      "  Attempting uninstall: protobuf\n",
      "    Found existing installation: protobuf 4.25.3\n",
      "    Uninstalling protobuf-4.25.3:\n",
      "      Successfully uninstalled protobuf-4.25.3\n",
      "\u001b[31mERROR: pip's dependency resolver does not currently take into account all the packages that are installed. This behaviour is the source of the following dependency conflicts.\n",
      "streamlit 1.37.1 requires protobuf<6,>=3.20, but you have protobuf 6.32.0 which is incompatible.\u001b[0m\u001b[31m\n",
      "\u001b[0mSuccessfully installed google-api-core-2.25.1 google-auth-2.40.3 google-cloud-vision-3.10.2 googleapis-common-protos-1.70.0 grpcio-1.74.0 grpcio-status-1.74.0 proto-plus-1.26.1 protobuf-6.32.0 rsa-4.9.1\n",
      "Note: you may need to restart the kernel to use updated packages.\n"
     ]
    }
   ],
   "source": [
    "%pip install google-cloud-vision pillow"
   ]
  },
  {
   "cell_type": "markdown",
   "id": "b79655d1",
   "metadata": {},
   "source": [
    "## Dependancy Import and Environment Setup\n",
    "We'll authenticate our Google Cloud Vision API client using the `serviceAccountKey.json` file."
   ]
  },
  {
   "cell_type": "code",
   "execution_count": 2,
   "id": "524413ac",
   "metadata": {},
   "outputs": [],
   "source": [
    "import os, tempfile, json\n",
    "from google.cloud import vision\n",
    "from PIL import Image\n",
    "from collections import OrderedDict\n",
    "\n",
    "# Set Credentials\n",
    "os.environ['GOOGLE_APPLICATION_CREDENTIALS'] = 'serviceAccountKey.json'"
   ]
  },
  {
   "cell_type": "markdown",
   "id": "3add4ff8",
   "metadata": {},
   "source": [
    "## Load Data\n",
    "`category_map.json` → maps categories (e.g., plastic, paper) to Google Cloud's Vision API labels."
   ]
  },
  {
   "cell_type": "code",
   "execution_count": 3,
   "id": "c61e448f",
   "metadata": {},
   "outputs": [],
   "source": [
    "with open('category_map.json', 'r') as f:\n",
    "    category_map = json.load(f)"
   ]
  },
  {
   "cell_type": "markdown",
   "id": "983b59b4",
   "metadata": {},
   "source": [
    "## Pre-processing (Image Optimization)\n",
    "Resize and convert all images to JPEG format."
   ]
  },
  {
   "cell_type": "code",
   "execution_count": 4,
   "id": "c4c82170",
   "metadata": {},
   "outputs": [],
   "source": [
    "def optimize_image(image_path, max_size=(800, 800)):\n",
    "    with Image.open(image_path) as img:\n",
    "        img.thumbnail(max_size)\n",
    "        jpeg_path = image_path + \".jpg\"\n",
    "        img.convert(\"RGB\").save(jpeg_path, \"JPEG\", optimize=True, quality=85)\n",
    "    return jpeg_path"
   ]
  },
  {
   "cell_type": "markdown",
   "id": "1d9f10b0",
   "metadata": {},
   "source": [
    "## Object Localization\n",
    "`ImageAnnotatorClient` performs Object Localization on the images. We'll construct a collection of annotations associated with each image."
   ]
  },
  {
   "cell_type": "code",
   "execution_count": 5,
   "id": "e0386784",
   "metadata": {},
   "outputs": [],
   "source": [
    "def get_detected_objects(image_path):\n",
    "    client = vision.ImageAnnotatorClient()\n",
    "    try:\n",
    "        with open(image_path, 'rb') as image_file:\n",
    "            content = image_file.read()\n",
    "        image = vision.Image(content=content)\n",
    "\n",
    "        response = client.object_localization(image=image)\n",
    "        objects = response.localized_object_annotations\n",
    "\n",
    "        if response.error.message:\n",
    "            raise Exception(f'Error: {response.error.message}')\n",
    "\n",
    "        detected_objects = [obj.name for obj in objects]\n",
    "        return detected_objects\n",
    "    except Exception as e:\n",
    "        return {'error': str(e)}"
   ]
  },
  {
   "cell_type": "markdown",
   "id": "2cf57cf4",
   "metadata": {},
   "source": [
    "## Object Mapping\n",
    "We'll map the detected objects to their corresponding categories to find the most relevant category for each image."
   ]
  },
  {
   "cell_type": "code",
   "execution_count": 6,
   "id": "75662f76",
   "metadata": {},
   "outputs": [],
   "source": [
    "def get_recyclable_categories(detected_objects):\n",
    "    matching_categories = set()\n",
    "    for category, terms in category_map.items():\n",
    "        if any(obj in terms for obj in detected_objects):\n",
    "            matching_categories.add(category)\n",
    "    return list(matching_categories) if matching_categories else None"
   ]
  },
  {
   "cell_type": "markdown",
   "id": "0b9ca8d7",
   "metadata": {},
   "source": [
    "## Handling Edge-Case (Multiple Objects Detected)\n",
    "In the likely scenario that multiple objects are detected in an image, we will implement a scoring system to determine the best-fit category based on the object overlaps. In the scenario that there is still a tie between multiple categories, we will perform **Label Detection** on the image to get a more granular analysis of the detected objects. This will help us identify the most relevant category based on the highest confidence score across a wider range of generic labels.\n",
    "\n",
    "`ImageAnnotatorClient` performs Label Detection on the images. We'll construct a collection of annotations associated with each image."
   ]
  },
  {
   "cell_type": "code",
   "execution_count": 7,
   "id": "ae5c899f",
   "metadata": {},
   "outputs": [],
   "source": [
    "def granular_analysis_to_resolve_tie(file_name, image_path, tied_categories):\n",
    "    client = vision.ImageAnnotatorClient()\n",
    "    try:\n",
    "        with open(image_path, 'rb') as image_file:\n",
    "            content = image_file.read()\n",
    "        image = vision.Image(content=content)\n",
    "\n",
    "        response = client.label_detection(image=image)\n",
    "        labels = [label.description for label in response.label_annotations]\n",
    "\n",
    "        if response.error.message:\n",
    "            raise Exception(f'Error: {response.error.message}')\n",
    "\n",
    "        label_match_count = {category: 0 for category in tied_categories}\n",
    "        for category in tied_categories:\n",
    "            terms = category_map.get(category, [])\n",
    "            label_match_count[category] = sum(1 for label in labels if label in terms)\n",
    "\n",
    "        best_category = max(label_match_count, key=label_match_count.get)\n",
    "        return best_category if label_match_count[best_category] > 0 else None\n",
    "    except Exception as e:\n",
    "        return {'error': str(e)}\n",
    "\n",
    "def get_best_fitting_category(file_name, image_path, detected_objects, matched_categories):\n",
    "    category_match_count = {category: 0 for category in matched_categories}\n",
    "    for category in matched_categories:\n",
    "        terms = category_map.get(category, [])\n",
    "        category_match_count[category] = sum(1 for obj in detected_objects if obj in terms)\n",
    "\n",
    "    best_category = max(category_match_count, key=category_match_count.get)\n",
    "    highest_count = category_match_count[best_category]\n",
    "\n",
    "    tied_categories = [cat for cat, count in category_match_count.items() if count == highest_count]\n",
    "\n",
    "    if len(tied_categories) > 1:\n",
    "        return granular_analysis_to_resolve_tie(file_name, image_path, tied_categories)\n",
    "\n",
    "    return best_category"
   ]
  },
  {
   "cell_type": "markdown",
   "id": "2527f29c",
   "metadata": {},
   "source": [
    "## Putting it to the test!\n",
    "\n",
    "Upload an image and run an inference through our pipeline to retrieve detected objects and categories.\n"
   ]
  },
  {
   "cell_type": "code",
   "execution_count": null,
   "id": "973828eb",
   "metadata": {},
   "outputs": [
    {
     "name": "stdout",
     "output_type": "stream",
     "text": [
      "Paper is recyclable!\n"
     ]
    }
   ],
   "source": [
    "def analyze_image(image_path):\n",
    "    optimized_path = optimize_image(image_path)\n",
    "\n",
    "    detected_objects = get_detected_objects(optimized_path)\n",
    "    if isinstance(detected_objects, dict) and 'error' in detected_objects:\n",
    "        print(f\"Error detecting objects: {detected_objects['error']}\")\n",
    "        return\n",
    "\n",
    "    if not detected_objects:\n",
    "        print(\"Category: No match\")\n",
    "        return\n",
    "\n",
    "    recyclable_categories = get_recyclable_categories(detected_objects)\n",
    "    if recyclable_categories:\n",
    "        best_category = get_best_fitting_category(\n",
    "            file_name=os.path.basename(image_path),\n",
    "            image_path=image_path,\n",
    "            detected_objects=detected_objects,\n",
    "            matched_categories=recyclable_categories\n",
    "        )\n",
    "        if best_category:\n",
    "            print(f\"{best_category} is recyclable!\")\n",
    "            return\n",
    "\n",
    "    print(\"Category: No match\")\n",
    "\n",
    "test_image = \"sample.jpg\"\n",
    "analyze_image(test_image)"
   ]
  }
 ],
 "metadata": {
  "kernelspec": {
   "display_name": "base",
   "language": "python",
   "name": "python3"
  },
  "language_info": {
   "codemirror_mode": {
    "name": "ipython",
    "version": 3
   },
   "file_extension": ".py",
   "mimetype": "text/x-python",
   "name": "python",
   "nbconvert_exporter": "python",
   "pygments_lexer": "ipython3",
   "version": "3.12.7"
  }
 },
 "nbformat": 4,
 "nbformat_minor": 5
}
